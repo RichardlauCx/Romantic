{
 "cells": [
  {
   "cell_type": "code",
   "execution_count": null,
   "outputs": [],
   "source": [
    "# -*- coding: utf-8 -*-\n",
    "#  @ Date   : 2019/5/20 13:14\n",
    "#  @ Author : RichardLau_Cx\n",
    "#  @ file   : Richard.py\n",
    "#  @ IDE    : PyCharm\n",
    "\n",
    "\n",
    "import turtle as t\n",
    "import random\n",
    "\n",
    "from copy import deepcopy\n",
    "\n",
    "brance = 65\n",
    "BRANCE = 65\n",
    "\n",
    "\n",
    "def draw_tree(brance):  # 画树枝部分  分支量\n",
    "    if brance > 4:  # 设置一个最小分支量 可以自己改\n",
    "        if 8 <= brance <= 16:  # 分支量在这个范围内，画笔大小缩小四倍，画中等细小的树枝\n",
    "            t.pencolor(\"lightcoral\")  # 珊瑚色\n",
    "            # t.pencolor(\"green\")\n",
    "            t.pensize(brance / 4)\n",
    "        elif brance < 8:  # 分支量在这个范围内，画笔大小缩小二倍 ， 画细小的树枝\n",
    "            t.pencolor(\"lightcoral\")  # 珊瑚色\n",
    "            # t.pencolor(\"green\")\n",
    "            t.pensize(brance / 2)\n",
    "        else:  # 其他范围内，我们让程序画树干部分\n",
    "            t.pencolor(\"Tan\")  # 褐色\n",
    "            t.pensize(brance / 10)  # 缩小支柱  设置画笔宽度\n",
    "\n",
    "        t.fd(brance)  # 最开始的树干部分\n",
    "        a = 1.5 * random.random()  # 随机度数因子\n",
    "\n",
    "        t.right(20 * a)  # 右转随机角度\n",
    "\n",
    "        b = 1.5 * random.random()  # 随机长度因子\n",
    "        draw_tree(brance - 10 * b)  # 往右画，直到画不动为止，然后左转随机度数\n",
    "\n",
    "        t.left(40 * a)  # 左转随机角度\n",
    "        draw_tree(brance - 10 * b)  # 往左画，直到画不动为止，然后右转随机度数\n",
    "\n",
    "        t.right(20 * a)  # 右转一定角度\n",
    "\n",
    "        t.penup()\n",
    "        t.backward(brance)  # 递归结束回到上一个节点\n",
    "        t.pendown()\n",
    "\n",
    "\n",
    "def draw_fallenflower(brance):\n",
    "    for i in range(150):  # 循环150次 绘制 掉落的花瓣\n",
    "        a = 250 - 500 * random.random()  # 花瓣整体长度，有正有负就可以让海龟往二个方向走\n",
    "        b = 10 - 20 * random.random()  # 花瓣整体宽度，正负道理一致，数值可以根据实际输入\n",
    "\n",
    "        t.penup()  # 抬笔向前随机走b个宽度，左转90，随机走a个长度，落笔，跟我画一个小圈圈\n",
    "        t.fd(b)\n",
    "        t.left(90)\n",
    "        t.fd(a)\n",
    "        t.pendown()\n",
    "\n",
    "        t.pencolor(\"lightcoral\")  # 珊瑚色\n",
    "        # t.pencolor(\"green\")\n",
    "        t.circle(1)\n",
    "\n",
    "        t.penup()  # 跟我左边抬个笔，后退个a的长度，右边转个90，后退个b的宽度，这样可以\n",
    "        t.backward(a)  # 让海龟回到和刚出发位置差不多的水平线上，所以上面的b设置最好小一点\n",
    "        t.right(90)\n",
    "        t.backward(b)\n",
    "\n",
    "\n",
    "def main():\n",
    "    t.bgpic(r'cats_under_the_moon.gif')\n",
    "\n",
    "    t.screensize(500, 500, \"pink\")\n",
    "    t.speed(0)\n",
    "    t.penup()\n",
    "    t.backward(4 * BRANCE)\n",
    "    t.right(90)\n",
    "    t.fd(3*BRANCE)\n",
    "    t.pendown()\n",
    "    t.left(180)\n",
    "\n",
    "    draw_tree(brance)\n",
    "\n",
    "    draw_fallenflower(brance)\n",
    "\n",
    "    t.done()\n",
    "\n",
    "\n",
    "main()\n"
   ],
   "metadata": {
    "collapsed": false,
    "pycharm": {
     "name": "#%%\n"
    }
   }
  }
 ],
 "metadata": {
  "language_info": {
   "codemirror_mode": {
    "name": "ipython",
    "version": 2
   },
   "file_extension": ".py",
   "mimetype": "text/x-python",
   "name": "python",
   "nbconvert_exporter": "python",
   "pygments_lexer": "ipython2",
   "version": "2.7.6"
  },
  "kernelspec": {
   "name": "pycharm-2336a3c6",
   "language": "python",
   "display_name": "PyCharm (Romantic)"
  },
  "pycharm": {
   "stem_cell": {
    "cell_type": "raw",
    "source": [],
    "metadata": {
     "collapsed": false
    }
   }
  }
 },
 "nbformat": 4,
 "nbformat_minor": 0
}