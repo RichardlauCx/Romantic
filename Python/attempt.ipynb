{
 "cells": [
  {
   "cell_type": "code",
   "execution_count": 11,
   "metadata": {
    "pycharm": {
     "is_executing": false
    }
   },
   "outputs": [
    {
     "name": "stdout",
     "output_type": "stream",
     "text": [
      "晨旭解题：（1）已知一粒种子的发芽率为0.9， 则两个种子同时发芽的概率为：P(1)**2 = 0.9*0.9\n",
      "           (2) 根据已知得：一粒种子发芽的概率为一粒发芽，另一粒不发芽：P(2) = 0.9*0.1 + 0.1*0.9\n",
      "           (3) 至少有一颗发芽，则用整体减去全不发芽：即P(3) = 1 - 0.1*0.1\n",
      "           (4) 至多有一粒发芽，则除去都发芽即可，即：P(4) = 1 - 0.9*0.9\n"
     ]
    }
   ],
   "source": [
    "join = \" \"*11\n",
    "print(\"晨旭解题：（1）已知一粒种子的发芽率为0.9， 则两个种子同时发芽的概率为：P(1)**2 = 0.9*0.9\\n\" + join + \n",
    "            \"(2) 根据已知得：一粒种子发芽的概率为一粒发芽，另一粒不发芽：P(2) = 0.9*0.1 + 0.1*0.9\\n\" + join +\n",
    "            \"(3) 至少有一颗发芽，则用整体减去全不发芽：即P(3) = 1 - 0.1*0.1\\n\" + join +\n",
    "            \"(4) 至多有一粒发芽，则除去都发芽即可，即：P(4) = 1 - 0.9*0.9\")\n",
    "\n",
    "# -*- coding: utf-8 -*-\n",
    "#  @ Date   : 2019/5/20 13:14\n",
    "#  @ Author : RichardLau_Cx\n",
    "#  @ file   : Richard.py\n",
    "#  @ IDE    : PyCharm\n",
    "\n",
    "# 具体答案小兔子已经公布了，我就不实现出来啦！"
   ]
  },
  {
   "cell_type": "code",
   "execution_count": null,
   "metadata": {},
   "outputs": [],
   "source": []
  }
 ],
 "metadata": {
  "kernelspec": {
   "display_name": "Python 3",
   "language": "python",
   "name": "python3"
  },
  "language_info": {
   "codemirror_mode": {
    "name": "ipython",
    "version": 3
   },
   "file_extension": ".py",
   "mimetype": "text/x-python",
   "name": "python",
   "nbconvert_exporter": "python",
   "pygments_lexer": "ipython3",
   "version": "3.6.4"
  },
  "pycharm": {
   "stem_cell": {
    "cell_type": "raw",
    "source": [],
    "metadata": {
     "collapsed": false
    }
   }
  }
 },
 "nbformat": 4,
 "nbformat_minor": 1
}